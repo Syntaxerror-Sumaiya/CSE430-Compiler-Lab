{
  "nbformat": 4,
  "nbformat_minor": 0,
  "metadata": {
    "colab": {
      "name": "LabProblem2.ipynb",
      "private_outputs": true,
      "provenance": []
    },
    "kernelspec": {
      "name": "python3",
      "display_name": "Python 3"
    },
    "language_info": {
      "name": "python"
    }
  },
  "cells": [
    {
      "cell_type": "code",
      "execution_count": null,
      "metadata": {
        "id": "knZnjy7YsLRX"
      },
      "outputs": [],
      "source": [
        "import pandas as pd\n",
        "df = pd.DataFrame(columns=['Name', 'Type'])\n",
        "df.head()\n"
      ]
    },
    {
      "cell_type": "code",
      "source": [
        "#name, type\n",
        "#1. insert function\n",
        "\n",
        "def insert(df, name, typ):\n",
        "    if (name not in df.Name.values) or (typ not in df.Type.values):  #if both are not found in dataframe table...\n",
        "        df.loc[-1] = [name, typ]    #hashcode generate here .......\n",
        "        df.index = df.index + 1  #update the index number\n",
        "        df = df.sort_index()  #sorting location\n",
        "    return df\n",
        "\n",
        "\n",
        "#2. search function according to name\n",
        "def search(df, name):\n",
        "    return df.loc[df['Name'] == name] # for type search... \"['Type'] == t...\"\n",
        "\n",
        "\n",
        "#3. delete function according to name\n",
        "def delete(df, name):\n",
        "    try:\n",
        "        idx = df.loc[df['Name'] == name].index[0]\n",
        "        df.drop([idx],axis=0,inplace=True) #remove labels of table columns or rows ... axis 0 =rows, axis 1= columns...\n",
        "        df.reset_index(inplace=True) #change or remove the index\n",
        "        df.drop('index',axis=1,inplace=True)\n",
        "        return df\n",
        "    except:\n",
        "        print('Name not found')\n",
        "        return df\n",
        "\n",
        "\n",
        "#4. update function\n",
        "def update(df, name=None, new_name=None, typ=None, new_typ=None):\n",
        "    if name:\n",
        "        if name in df.Name.values:\n",
        "            df.loc[df.Name == name,'Name'] = new_name #1st block for name\n",
        "    if typ:\n",
        "        if typ in df.Type.values:\n",
        "            df.loc[df.Type == typ,'Type'] = new_typ #2nd block for type\n",
        "\n",
        "            \n",
        "    return df\n",
        "\n",
        "        \n",
        "        \n",
        "#5. show function\n",
        "def show():\n",
        "    print(df)\n",
        "    \n",
        "#6. getHash function  \n",
        "def getHashKey(df, name):\n",
        "    return df.loc[df['Name'] == name].index[0]"
      ],
      "metadata": {
        "id": "7i4_s5uPsf1D"
      },
      "execution_count": null,
      "outputs": []
    },
    {
      "cell_type": "code",
      "source": [
        "#insert values in table\n",
        "\n",
        "\n",
        "df = insert(df,'int','INTEGER')\n",
        "df = insert(df,'myFunction','FUNCTION')\n",
        "df = insert(df,'x','ID')\n",
        "df = insert(df,'5','NUM')\n",
        "df"
      ],
      "metadata": {
        "id": "9cXWCesSsnSY"
      },
      "execution_count": null,
      "outputs": []
    },
    {
      "cell_type": "code",
      "source": [
        "df = insert(df,'Akter','char')\n",
        "df"
      ],
      "metadata": {
        "id": "Jx-jbwPftk7Z"
      },
      "execution_count": null,
      "outputs": []
    },
    {
      "cell_type": "code",
      "source": [
        "search(df, 'Akter')\n",
        "\n"
      ],
      "metadata": {
        "id": "pBBLCaMAt2sg"
      },
      "execution_count": null,
      "outputs": []
    },
    {
      "cell_type": "code",
      "source": [
        "df = delete(df,\"Karim\")\n",
        "df"
      ],
      "metadata": {
        "id": "HRjaKNpht_Yv"
      },
      "execution_count": null,
      "outputs": []
    },
    {
      "cell_type": "code",
      "source": [
        "# Show\n",
        "show()"
      ],
      "metadata": {
        "id": "CNSg_30uuGO5"
      },
      "execution_count": null,
      "outputs": []
    },
    {
      "cell_type": "code",
      "source": [
        "df = update(df, '5','8','NUM','Number')\n",
        "df"
      ],
      "metadata": {
        "id": "oDETrRItuL6A"
      },
      "execution_count": null,
      "outputs": []
    },
    {
      "cell_type": "code",
      "source": [
        "getHashKey(df,'8')"
      ],
      "metadata": {
        "id": "tzggoSzJuQaY"
      },
      "execution_count": null,
      "outputs": []
    },
    {
      "cell_type": "markdown",
      "source": [
        ""
      ],
      "metadata": {
        "id": "itvq1Qs5v1XO"
      }
    }
  ]
}