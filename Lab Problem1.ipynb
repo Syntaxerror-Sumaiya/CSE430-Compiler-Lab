import re, nltk



Identifiers, Keywords,Punctuations,Arithmetic_Operators,Logical_Operators,Constants,Parenthesis= [],[],[],[],[],[],[]
assign_Keywords = "auto|break|case|char|const|continue|default|do|double|else|enum|extern|float|for|goto|if|int|long|register|return|short|signd|sizeof|static|struct|switch|typedef|union|unsigned|void|volatile|while|string|class|struct|include"
assign_Arrithmetic_Operators = "(\+)|(-)|(=)|(\*)|(/)|(%)"
assign_Constants = "^(\d+)$"
assign_Punctuations = "[\[@&~!#$\^\|{}\]:;<>?,\.']|\(\)|\(|\)|{}|\[\]|\""
assign_Identifiers = "^[a-zA-Z_]+[a-zA-Z0-9_]*"
assign_Logical_Operators = "(\==)|(<=)|(>=)"
assign_Parenthesis ="\{}|\[]|\(\)"



def remove_Spaces(program):
    scanned_Program = []
    for line in program:
        if (line.strip() != ''): scanned_Program.append(line.strip()) 
    return scanned_Program 

def remove_Comments(program):
    program_Multi_Comments_Removed = re.sub("/\*[^*]*\*+(?:[^/*][^*]*\*+)*/", "", program) 
    program_Single_Comments_Removed = re.sub("//.*", "", program_Multi_Comments_Removed) 
    program_Comments_removed = program_Single_Comments_Removed 
    return program_Comments_removed



def main(program):
  prog = remove_Comments(program).split('\n')
  scanned_Program = '\n'.join([str(elem) for elem in remove_Spaces(prog)])
  scanned_Program_lines = scanned_Program.split('\n')

  Source_File = []
  count = 0

  for line in scanned_Program_lines:
    Source_File.append(line)

  for line in Source_File:
      count = count + 1 
      
      if(line.startswith("include")):
          tokens = nltk.word_tokenize(line) 
      else:
          tokens = nltk.wordpunct_tokenize(line) 
      
      for token in tokens:
          if(re.findall(assign_Keywords, token)):
              Keywords.append(token)
          elif (re.findall(assign_Arrithmetic_Operators, token)):
              Arithmetic_Operators.append(token)
          elif (re.findall(assign_Constants,token)):
              Constants.append(token)
          elif (re.findall(assign_Punctuations, token)):
              Punctuations.append(token)
          elif (re.findall(assign_Identifiers, token)):
              Identifiers.append(token)

  output = "Keyword (%s) : %s\n\nIdentifier (%s): %s\n\nArithmetic Operator (%s): %s\n\nConstant (%s): %s\n\nPunctuation (%s): %s\n" % (len(Keywords),Keywords,len(Identifiers),Identifiers,len(Arithmetic_Operators),Arithmetic_Operators,len(Constants),Constants,len(Punctuations),Punctuations)
  print(output)


if __name__ == '__main__':
  run = input("Enter String Input: ")
  main(run)