{
  "nbformat": 4,
  "nbformat_minor": 0,
  "metadata": {
    "colab": {
      "provenance": []
    },
    "kernelspec": {
      "name": "python3",
      "display_name": "Python 3"
    },
    "language_info": {
      "name": "python"
    },
    "gpuClass": "standard"
  },
  "cells": [
    {
      "cell_type": "code",
      "source": [
        "no_of_terminals=int(input(\"Enter no. of terminals: \"))\n",
        "\n",
        "terminals = []\n",
        "\n",
        "print(\"Enter the terminals :\")\n",
        "for _ in range(no_of_terminals):\n",
        "    terminals.append(input())\n",
        "\n",
        "no_of_non_terminals=int(input(\"Enter no. of non terminals: \"))\n",
        "\n",
        "non_terminals = []\n",
        "\n",
        "print(\"Enter the non terminals :\")\n",
        "for _ in range(no_of_non_terminals):\n",
        "    non_terminals.append(input())\n",
        "\n",
        "starting_symbol = input(\"Enter the starting symbol: \")\n",
        "\n",
        "no_of_productions = int(input(\"Enter no of productions: \"))\n",
        "\n",
        "productions = []\n",
        "\n",
        "print(\"Enter the productions:\")\n",
        "for _ in range(no_of_productions):\n",
        "    productions.append(input())"
      ],
      "metadata": {
        "colab": {
          "base_uri": "https://localhost:8080/"
        },
        "id": "P1KRIj0kz3-f",
        "outputId": "b79c2c02-c19c-4f7e-8654-442436202d8a"
      },
      "execution_count": null,
      "outputs": [
        {
          "name": "stdout",
          "output_type": "stream",
          "text": [
            "Enter no. of terminals: 5\n",
            "Enter the terminals :\n",
            "+\n",
            "(\n",
            ")\n",
            "*\n",
            "i\n",
            "Enter no. of non terminals: 5\n",
            "Enter the non terminals :\n",
            "E\n",
            "T\n",
            "R\n",
            "F\n",
            "Y\n",
            "Enter the starting symbol: E\n",
            "Enter no of productions: 5\n",
            "Enter the productions:\n",
            "E->TR\n",
            "R->+TR/#\n",
            "T->FY\n",
            "Y->*FY/#\n",
            "F->(E)/i\n"
          ]
        }
      ]
    },
    {
      "cell_type": "code",
      "source": [
        "productions_dict = {}\n",
        "for nT in non_terminals:\n",
        "    productions_dict[nT] = []\n",
        "\n",
        "\n",
        "for production in productions:\n",
        "    nonterm_to_prod = production.split(\"->\")\n",
        "    alternatives = nonterm_to_prod[1].split(\"/\")\n",
        "    for alternative in alternatives:\n",
        "        productions_dict[nonterm_to_prod[0]].append(alternative)\n",
        "        \n",
        "        \n",
        "productions_dict"
      ],
      "metadata": {
        "colab": {
          "base_uri": "https://localhost:8080/"
        },
        "id": "Cavc4ZAa05KW",
        "outputId": "2ca24896-617c-4efa-ef0a-75cb9e1b2032"
      },
      "execution_count": null,
      "outputs": [
        {
          "output_type": "execute_result",
          "data": {
            "text/plain": [
              "{'E': ['TR'],\n",
              " 'T': ['FY'],\n",
              " 'R': ['+TR', '#'],\n",
              " 'F': ['(E)', 'i'],\n",
              " 'Y': ['*FY', '#']}"
            ]
          },
          "metadata": {},
          "execution_count": 3
        }
      ]
    },
    {
      "cell_type": "code",
      "source": [
        "FIRST = {}\n",
        "FOLLOW = {}\n",
        "\n",
        "for non_terminal in non_terminals:\n",
        "    FIRST[non_terminal] = set()\n",
        "\n",
        "for non_terminal in non_terminals:\n",
        "    FOLLOW[non_terminal] = set()"
      ],
      "metadata": {
        "id": "DKIPrNX40_p3"
      },
      "execution_count": null,
      "outputs": []
    },
    {
      "cell_type": "code",
      "source": [
        "import sys\n",
        "\n",
        "def first(string):\n",
        "    #print(\"first({})\".format(string))\n",
        "    first_ = set()\n",
        "    if string in non_terminals:\n",
        "        alternatives = productions_dict[string]\n",
        "\n",
        "        for alternative in alternatives:\n",
        "            first_2 = first(alternative)\n",
        "            first_ = first_ |first_2\n",
        "\n",
        "    elif string in terminals:\n",
        "        first_ = {string}\n",
        "\n",
        "    elif string=='' or string=='#':\n",
        "        first_ = {'#'}\n",
        "\n",
        "    else:\n",
        "        first_2 = first(string[0])\n",
        "        if '#' in first_2:\n",
        "            i = 1\n",
        "            while '#' in first_2:\n",
        "                #print(\"inside while\")\n",
        "\n",
        "                first_ = first_ | (first_2 - {'#'})\n",
        "                #print('string[i:]=', string[i:])\n",
        "                if string[i:] in terminals:\n",
        "                    first_ = first_ | {string[i:]}\n",
        "                    break\n",
        "                elif string[i:] == '':\n",
        "                    first_ = first_ | {'#'}\n",
        "                    break\n",
        "                first_2 = first(string[i:])\n",
        "                first_ = first_ | first_2 - {'#'}\n",
        "                i += 1\n",
        "        else:\n",
        "            first_ = first_ | first_2\n",
        "\n",
        "    return  first_\n",
        "\n",
        "\n",
        "def follow(nT):\n",
        "    \n",
        "    follow_ = set()\n",
        "    #print(\"FOLLOW\", FOLLOW)\n",
        "    prods = productions_dict.items()\n",
        "    if nT==starting_symbol:\n",
        "        follow_ = follow_ | {'$'}\n",
        "    for nt,rhs in prods:\n",
        "        #print(\"nt to rhs\", nt,rhs)\n",
        "        for alt in rhs:\n",
        "            for char in alt:\n",
        "                if char==nT:\n",
        "                    following_str = alt[alt.index(char) + 1:]\n",
        "                    if following_str=='':\n",
        "                        if nt==nT:\n",
        "                            continue\n",
        "                        else:\n",
        "                            follow_ = follow_ | follow(nt)\n",
        "                    else:\n",
        "                        follow_2 = first(following_str)\n",
        "                        if '#' in follow_2:\n",
        "                            follow_ = follow_ | follow_2-{'#'}\n",
        "                            follow_ = follow_ | follow(nt)\n",
        "                        else:\n",
        "                            follow_ = follow_ | follow_2\n",
        "    #print(\"returning for follow({})\".format(nT),follow_)\n",
        "    return follow_"
      ],
      "metadata": {
        "id": "mieMp_6o1ENE"
      },
      "execution_count": null,
      "outputs": []
    },
    {
      "cell_type": "code",
      "source": [
        "for non_terminal in non_terminals:\n",
        "    FIRST[non_terminal] = FIRST[non_terminal] | first(non_terminal)\n",
        "\n",
        "\n",
        "\n",
        "FOLLOW[starting_symbol] = FOLLOW[starting_symbol] | {'$'}\n",
        "\n",
        "for non_terminal in non_terminals:\n",
        "    FOLLOW[non_terminal] = FOLLOW[non_terminal] | follow(non_terminal)\n",
        "\n",
        "\n",
        "\n",
        "print(\"{: ^30}{: ^30}{: ^30}\".format('Non Terminals','First','Follow'))\n",
        "for non_terminal in non_terminals:\n",
        "    print(\"{: ^30}{: ^30}{: ^30}\".format(non_terminal,str(FIRST[non_terminal]),str(FOLLOW[non_terminal])))"
      ],
      "metadata": {
        "colab": {
          "base_uri": "https://localhost:8080/"
        },
        "id": "H9zRtk431Ite",
        "outputId": "0bdf958d-2abc-4042-c2b0-3da72af86884"
      },
      "execution_count": null,
      "outputs": [
        {
          "output_type": "stream",
          "name": "stdout",
          "text": [
            "        Non Terminals                     First                         Follow            \n",
            "              E                         {'i', '('}                    {'$', ')'}          \n",
            "              T                         {'i', '('}                 {'$', '+', ')'}        \n",
            "              R                         {'#', '+'}                    {'$', ')'}          \n",
            "              F                         {'i', '('}               {')', '$', '+', '*'}     \n",
            "              Y                         {'#', '*'}                 {'$', '+', ')'}        \n"
          ]
        }
      ]
    }
  ]
}